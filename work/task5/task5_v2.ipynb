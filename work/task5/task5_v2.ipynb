{
 "cells": [
  {
   "cell_type": "code",
   "execution_count": 1,
   "id": "9453c266",
   "metadata": {},
   "outputs": [],
   "source": [
    "import pandas as pd\n",
    "from sqlalchemy import create_engine\n",
    "from datetime import datetime, timedelta\n",
    "import json\n",
    "\n",
    "with open(\"/home/jovyan/work/.credentials.json\", \"r\") as credential:\n",
    "    credential = json.load(credential)\n",
    "    url = credential[\"url\"]\n",
    "\n",
    "def get_days(row):\n",
    "    \"\"\"return days of drug exposure after condition_start_date\"\"\"\n",
    "    condition_start_date = row[\"condition_start_date\"]\n",
    "    drug_exposure_start_date = row[\"drug_exposure_start_date\"]\n",
    "    drug_exposure_end_date = row[\"drug_exposure_end_date\"]\n",
    "    \n",
    "    if condition_start_date <= drug_exposure_start_date:\n",
    "        return drug_exposure_end_date - drug_exposure_start_date + timedelta(days=1)\n",
    "    else:\n",
    "        if condition_start_date <= drug_exposure_end_date:\n",
    "            return drug_exposure_end_date - condition_start_date + timedelta(days=1)\n",
    "        else:\n",
    "            return timedelta(days=0)"
   ]
  },
  {
   "cell_type": "code",
   "execution_count": 2,
   "id": "4a9bd93b",
   "metadata": {},
   "outputs": [],
   "source": [
    "# DB 연결\n",
    "engine = create_engine(url, connect_args={'options': '-csearch_path={}'.format('de')})\n",
    "df_person = pd.read_sql_table(\n",
    "    \"person\",\n",
    "    con=engine\n",
    ")\n",
    "\n",
    "df_condition = pd.read_sql_table(\n",
    "    \"condition_occurrence\",\n",
    "    con=engine\n",
    ")\n",
    "\n",
    "df_drug = pd.read_sql_table(\n",
    "    \"drug_exposure\",\n",
    "    con=engine\n",
    ")"
   ]
  },
  {
   "cell_type": "code",
   "execution_count": 3,
   "id": "224b482b",
   "metadata": {},
   "outputs": [],
   "source": [
    "# 제 2형 당뇨병 정보만 가져오기\n",
    "diabetes2_concept_id = [3191208, 36684827, 3194332, 3193274, 43531010,\n",
    "                        4130162, 45766052, 45757474, 4099651, 4129519,\n",
    "                        4063043, 4230254, 4193704, 4304377, 201826,\n",
    "                        3194082, 3192767]\n",
    "\n",
    "df_diabetes2 = df_condition[df_condition[\"condition_concept_id\"].isin(diabetes2_concept_id)]"
   ]
  },
  {
   "cell_type": "code",
   "execution_count": 4,
   "id": "41eeabde",
   "metadata": {},
   "outputs": [],
   "source": [
    "# 제2형 당뇨병 환자들의 출생 정보 가져오기\n",
    "df_merged1 = pd.merge(df_diabetes2,\n",
    "                      df_person,\n",
    "                      how=\"left\",\n",
    "                      left_on=\"person_id\",\n",
    "                      right_on=\"person_id\")\n",
    "\n",
    "# 제 2형 당뇨병이면서, condition occurence date 당시 18세 이상인 사람들만 가져오기\n",
    "over_18 = df_merged1[\"condition_start_datetime\"] - df_merged1[\"birth_datetime\"] > timedelta(days=18*365)\n",
    "df_merged1 = df_merged1[over_18]"
   ]
  },
  {
   "cell_type": "code",
   "execution_count": 5,
   "id": "e2c899e9",
   "metadata": {},
   "outputs": [],
   "source": [
    "# Metformin 복용자의 person_id, drug_exposure_start_date, drug_exposure_end_date 가져오기\n",
    "df_metformin = df_drug.loc[df_drug.drug_concept_id == 40163924] \\\n",
    "    [[\"person_id\", \"drug_exposure_start_date\", \"drug_exposure_end_date\"]]"
   ]
  },
  {
   "cell_type": "code",
   "execution_count": 6,
   "id": "0c882130",
   "metadata": {},
   "outputs": [],
   "source": [
    "\"\"\"\n",
    "제 2형 당뇨병 & 18세 이상인 사람들의 Metformin 복용 정보 가져오기\n",
    "위의 조건을 모두 만족해야하므로 \"inner\" join\n",
    "\"\"\"\n",
    "df_merged2 = pd.merge(df_merged1,\n",
    "                      df_metformin,\n",
    "                      how=\"inner\",\n",
    "                      left_on=\"person_id\",\n",
    "                      right_on=\"person_id\"\n",
    "                     )"
   ]
  },
  {
   "cell_type": "code",
   "execution_count": 7,
   "id": "c1242c07",
   "metadata": {},
   "outputs": [],
   "source": [
    "# 진단(당뇨병) 이후 Metformin을 복용한 일 수 구하기\n",
    "df_merged2[\"exposure_days\"] = df_merged2.apply(lambda row: get_days(row), axis=1)"
   ]
  },
  {
   "cell_type": "code",
   "execution_count": 8,
   "id": "04ebb0ab",
   "metadata": {},
   "outputs": [
    {
     "name": "stdout",
     "output_type": "stream",
     "text": [
      "제 2형 당뇨병이며, 만 18세 이상인 환자 중 Metformin을 90일 이상 복용한 환자수: 30명\n"
     ]
    }
   ],
   "source": [
    "# 환자 별 Metformin 전체 투약 일 수 산출\n",
    "df_exposure = df_merged2.groupby(\"person_id\")[\"exposure_days\"] \\\n",
    "    .sum()\\\n",
    "    .to_frame()\\\n",
    "    .reset_index()\n",
    "\n",
    "# 전체 투약 일수가 90일 이상인 경우 산출\n",
    "res = len(df_exposure.loc[df_exposure.exposure_days >= timedelta(days=90)])\n",
    "\n",
    "print(f'제 2형 당뇨병이며, 만 18세 이상인 환자 중 Metformin을 90일 이상 복용한 환자수: {res}명')"
   ]
  }
 ],
 "metadata": {
  "kernelspec": {
   "display_name": "Python 3 (ipykernel)",
   "language": "python",
   "name": "python3"
  },
  "language_info": {
   "codemirror_mode": {
    "name": "ipython",
    "version": 3
   },
   "file_extension": ".py",
   "mimetype": "text/x-python",
   "name": "python",
   "nbconvert_exporter": "python",
   "pygments_lexer": "ipython3",
   "version": "3.9.10"
  }
 },
 "nbformat": 4,
 "nbformat_minor": 5
}
