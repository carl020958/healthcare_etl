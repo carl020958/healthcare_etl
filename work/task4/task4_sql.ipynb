{
 "cells": [
  {
   "cell_type": "code",
   "execution_count": 1,
   "id": "71643169",
   "metadata": {},
   "outputs": [],
   "source": [
    "%config SqlMagic.displaycon = False\n",
    "%load_ext sql\n",
    "%sql url"
   ]
  },
  {
   "cell_type": "code",
   "execution_count": 2,
   "id": "8d34bd4d",
   "metadata": {},
   "outputs": [
    {
     "name": "stdout",
     "output_type": "stream",
     "text": [
      "10 rows affected.\n"
     ]
    },
    {
     "data": {
      "text/html": [
       "<table>\n",
       "    <tr>\n",
       "        <th>concept_name</th>\n",
       "    </tr>\n",
       "    <tr>\n",
       "        <td>clopidogrel 75 MG Oral Tablet</td>\n",
       "    </tr>\n",
       "    <tr>\n",
       "        <td>hydrochlorothiazide 12.5 MG Oral Tablet</td>\n",
       "    </tr>\n",
       "    <tr>\n",
       "        <td>1 ML epoetin alfa 4000 UNT/ML Injection [Epogen]</td>\n",
       "    </tr>\n",
       "    <tr>\n",
       "        <td>24 HR metformin hydrochloride 500 MG Extended Release Oral Tablet</td>\n",
       "    </tr>\n",
       "    <tr>\n",
       "        <td>amlodipine 5 MG Oral Tablet</td>\n",
       "    </tr>\n",
       "    <tr>\n",
       "        <td>simvastatin 20 MG Oral Tablet</td>\n",
       "    </tr>\n",
       "    <tr>\n",
       "        <td>120 ACTUAT fluticasone propionate 0.044 MG/ACTUAT Metered Dose Inhaler</td>\n",
       "    </tr>\n",
       "    <tr>\n",
       "        <td>atenolol 50 MG / chlorthalidone 25 MG Oral Tablet [Tenoretic]</td>\n",
       "    </tr>\n",
       "    <tr>\n",
       "        <td>amlodipine 5 MG / hydrochlorothiazide 12.5 MG / olmesartan medoxomil 20 MG Oral Tablet</td>\n",
       "    </tr>\n",
       "    <tr>\n",
       "        <td>hydrochlorothiazide 25 MG Oral Tablet</td>\n",
       "    </tr>\n",
       "</table>"
      ],
      "text/plain": [
       "[('clopidogrel 75 MG Oral Tablet',),\n",
       " ('hydrochlorothiazide 12.5 MG Oral Tablet',),\n",
       " ('1 ML epoetin alfa 4000 UNT/ML Injection [Epogen]',),\n",
       " ('24 HR metformin hydrochloride 500 MG Extended Release Oral Tablet',),\n",
       " ('amlodipine 5 MG Oral Tablet',),\n",
       " ('simvastatin 20 MG Oral Tablet',),\n",
       " ('120 ACTUAT fluticasone propionate 0.044 MG/ACTUAT Metered Dose Inhaler',),\n",
       " ('atenolol 50 MG / chlorthalidone 25 MG Oral Tablet [Tenoretic]',),\n",
       " ('amlodipine 5 MG / hydrochlorothiazide 12.5 MG / olmesartan medoxomil 20 MG Oral Tablet',),\n",
       " ('hydrochlorothiazide 25 MG Oral Tablet',)]"
      ]
     },
     "execution_count": 2,
     "metadata": {},
     "output_type": "execute_result"
    }
   ],
   "source": [
    "%%sql\n",
    "WITH drug_list AS (\n",
    "\tSELECT \n",
    "\t\tDISTINCT drug_concept_id, concept_name, COUNT(*) AS cnt \n",
    "\tFROM de.drug_exposure de \n",
    "\tJOIN concept \n",
    "\t\tON drug_concept_id = concept_id \n",
    "\tWHERE concept_id IN (40213154, 19078106, 19009384, 40224172, 19127663, \n",
    "\t\t\t\t\t\t 1511248, 40169216, 1539463, 19126352, 1539411, \n",
    "\t\t\t\t\t\t 1332419, 40163924, 19030765, 19106768, 19075601) \n",
    "\tGROUP BY drug_concept_id, concept_name \n",
    ")\n",
    "\n",
    "SELECT \n",
    "\tdl1.concept_name\n",
    "FROM de.drug_pair dp\n",
    "LEFT JOIN drug_list dl1\n",
    "\tON dp.drug_concept_id1 = dl1.drug_concept_id\n",
    "LEFT JOIN drug_list dl2\n",
    "\tON dp.drug_concept_id2 = dl2.drug_concept_id\n",
    "WHERE dl2.cnt > dl1.cnt\n",
    "ORDER BY dl1.cnt"
   ]
  }
 ],
 "metadata": {
  "kernelspec": {
   "display_name": "Python 3 (ipykernel)",
   "language": "python",
   "name": "python3"
  },
  "language_info": {
   "codemirror_mode": {
    "name": "ipython",
    "version": 3
   },
   "file_extension": ".py",
   "mimetype": "text/x-python",
   "name": "python",
   "nbconvert_exporter": "python",
   "pygments_lexer": "ipython3",
   "version": "3.9.10"
  }
 },
 "nbformat": 4,
 "nbformat_minor": 5
}
