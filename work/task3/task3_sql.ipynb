{
 "cells": [
  {
   "cell_type": "code",
   "execution_count": 1,
   "id": "664a9e33",
   "metadata": {},
   "outputs": [],
   "source": [
    "%config SqlMagic.displaycon = False\n",
    "%load_ext sql\n",
    "%sql url"
   ]
  },
  {
   "cell_type": "code",
   "execution_count": 2,
   "id": "0355af38",
   "metadata": {},
   "outputs": [
    {
     "name": "stdout",
     "output_type": "stream",
     "text": [
      "5 rows affected.\n"
     ]
    },
    {
     "data": {
      "text/html": [
       "<table>\n",
       "    <tr>\n",
       "        <th>drug_concept_id</th>\n",
       "        <th>start_date</th>\n",
       "        <th>end_date</th>\n",
       "        <th>total_exposure_days</th>\n",
       "    </tr>\n",
       "    <tr>\n",
       "        <td>40213227</td>\n",
       "        <td>1993-01-05</td>\n",
       "        <td>1993-01-05</td>\n",
       "        <td>1</td>\n",
       "    </tr>\n",
       "    <tr>\n",
       "        <td>40213154</td>\n",
       "        <td>1989-09-12</td>\n",
       "        <td>1998-07-07</td>\n",
       "        <td>10</td>\n",
       "    </tr>\n",
       "    <tr>\n",
       "        <td>19030765</td>\n",
       "        <td>1988-10-18</td>\n",
       "        <td>1998-10-05</td>\n",
       "        <td>1214</td>\n",
       "    </tr>\n",
       "    <tr>\n",
       "        <td>1539463</td>\n",
       "        <td>1990-03-13</td>\n",
       "        <td>1998-03-11</td>\n",
       "        <td>5484</td>\n",
       "    </tr>\n",
       "    <tr>\n",
       "        <td>19009384</td>\n",
       "        <td>1959-12-01</td>\n",
       "        <td>1998-10-06</td>\n",
       "        <td>14421</td>\n",
       "    </tr>\n",
       "</table>"
      ],
      "text/plain": [
       "[(40213227, datetime.date(1993, 1, 5), datetime.date(1993, 1, 5), 1),\n",
       " (40213154, datetime.date(1989, 9, 12), datetime.date(1998, 7, 7), 10),\n",
       " (19030765, datetime.date(1988, 10, 18), datetime.date(1998, 10, 5), 1214),\n",
       " (1539463, datetime.date(1990, 3, 13), datetime.date(1998, 3, 11), 5484),\n",
       " (19009384, datetime.date(1959, 12, 1), datetime.date(1998, 10, 6), 14421)]"
      ]
     },
     "execution_count": 2,
     "metadata": {},
     "output_type": "execute_result"
    }
   ],
   "source": [
    "%%sql\n",
    "WITH min_max_drug_id AS (\n",
    "\tSELECT\n",
    "\t\t de.drug_concept_id\n",
    "\t\t,min(drug_exposure_start_date) start_date\n",
    "\t\t,max(drug_exposure_end_date) end_date\n",
    "\tFROM de.drug_exposure de\n",
    "\tWHERE person_id = 1891866\n",
    "\tGROUP BY de.drug_concept_id \n",
    ")\n",
    "\n",
    "SELECT \n",
    "\t mmdi.drug_concept_id\n",
    "\t,mmdi.start_date\n",
    "\t,mmdi.end_date\n",
    "\t,ed.total_exposure_days\n",
    "FROM min_max_drug_id mmdi\n",
    "LEFT JOIN (\n",
    "    -- exposure days per drug_concept_id\n",
    "\tSELECT\n",
    "\t\t drug_concept_id \n",
    "\t\t,SUM(drug_exposure_end_date - drug_exposure_start_date  + 1) AS total_exposure_days\n",
    "\tFROM de.drug_exposure\n",
    "\tWHERE (person_id = 1891866)\n",
    "\tAND drug_exposure_id NOT IN (\n",
    "\t-- 같은 약이며, 복용 시작일이 같지만, 복용 종료일이 다른 경우의 drug_exposure_id 제외 (중복되므로)\n",
    "\t\tSELECT\n",
    "\t\t\tt1.drug_exposure_id \n",
    "\t\tFROM (\n",
    "\t\t\tSELECT \n",
    "\t\t\t\t drug_exposure_id \n",
    "\t\t\t\t,drug_concept_id \n",
    "\t\t\t\t,drug_exposure_start_date \n",
    "\t\t\t\t,drug_exposure_end_date \n",
    "\t\t\t\t,ROW_NUMBER() OVER (\n",
    "\t\t\t\t\tPARTITION BY drug_concept_id, drug_exposure_start_date \n",
    "\t\t\t\t\tORDER BY drug_exposure_end_date DESC) AS row_num\n",
    "\t\t\tFROM de.drug_exposure de \n",
    "\t\t\tWHERE person_id = 1891866\n",
    "\t\t) AS t1\n",
    "\t\tWHERE t1.row_num > 1\n",
    "\t)\n",
    "\tGROUP BY drug_concept_id \n",
    ") ed\n",
    "\tON mmdi.drug_concept_id = ed.drug_concept_id\n",
    "ORDER BY total_exposure_days"
   ]
  }
 ],
 "metadata": {
  "kernelspec": {
   "display_name": "Python 3 (ipykernel)",
   "language": "python",
   "name": "python3"
  },
  "language_info": {
   "codemirror_mode": {
    "name": "ipython",
    "version": 3
   },
   "file_extension": ".py",
   "mimetype": "text/x-python",
   "name": "python",
   "nbconvert_exporter": "python",
   "pygments_lexer": "ipython3",
   "version": "3.9.10"
  }
 },
 "nbformat": 4,
 "nbformat_minor": 5
}
