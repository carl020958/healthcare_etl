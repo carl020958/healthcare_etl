{
 "cells": [
  {
   "cell_type": "code",
   "execution_count": 1,
   "id": "6c430540",
   "metadata": {},
   "outputs": [],
   "source": [
    "import pandas as pd\n",
    "from sqlalchemy import create_engine\n",
    "from datetime import timedelta\n",
    "import json\n",
    "\n",
    "with open(\"/home/jovyan/work/.credentials.json\", \"r\") as credential:\n",
    "    credential = json.load(credential)\n",
    "    url = credential[\"url\"]"
   ]
  },
  {
   "cell_type": "code",
   "execution_count": 2,
   "id": "f1e04478",
   "metadata": {},
   "outputs": [],
   "source": [
    "# DB 연결\n",
    "engine = create_engine(url, connect_args={'options': '-csearch_path={}'.format('de')})\n",
    "df = pd.read_sql_table(\n",
    "    \"drug_exposure\",\n",
    "    con=engine\n",
    ")"
   ]
  },
  {
   "cell_type": "code",
   "execution_count": 3,
   "id": "bdcb21bd",
   "metadata": {},
   "outputs": [],
   "source": [
    "# 환자 번호  정보 가져오기\n",
    "df_interest = df.loc[df.person_id == 1891866]"
   ]
  },
  {
   "cell_type": "code",
   "execution_count": 4,
   "id": "79a3ca94",
   "metadata": {},
   "outputs": [],
   "source": [
    "# 약 종류 별 처음 시작일, 마지막 종료일 구하기\n",
    "df_drug_dates = df_interest \\\n",
    "    .groupby(\"drug_concept_id\")\\\n",
    "    .agg({\"drug_exposure_start_date\":\"min\", \n",
    "          \"drug_exposure_end_date\": \"max\",\n",
    "         }) \\\n",
    "    .reset_index()"
   ]
  },
  {
   "cell_type": "code",
   "execution_count": 5,
   "id": "d63331aa",
   "metadata": {},
   "outputs": [],
   "source": [
    "# 같은 약이며, 복용 시작일이 같지만, 복용 종료일이 다른 경우의 drug_exposure_id 추출 (복용일로부터 제외하기 위해)\n",
    "criteria = df_interest[[\"drug_concept_id\", \"drug_exposure_start_date\"]]\n",
    "drug_exposure_duplicate_id = df_interest[criteria.duplicated(keep=\"last\")][\"drug_exposure_id\"]\n",
    "\n",
    "# 추출된 drug_exposure_id 제외\n",
    "df_interest_duplicate_rm = df_interest.loc[~df_interest[\"drug_exposure_id\"].isin(drug_exposure_duplicate_id)]"
   ]
  },
  {
   "cell_type": "code",
   "execution_count": 6,
   "id": "b4eef71e",
   "metadata": {},
   "outputs": [
    {
     "name": "stderr",
     "output_type": "stream",
     "text": [
      "/tmp/ipykernel_50879/607857325.py:6: SettingWithCopyWarning: \n",
      "A value is trying to be set on a copy of a slice from a DataFrame.\n",
      "Try using .loc[row_indexer,col_indexer] = value instead\n",
      "\n",
      "See the caveats in the documentation: https://pandas.pydata.org/pandas-docs/stable/user_guide/indexing.html#returning-a-view-versus-a-copy\n",
      "  df_interest_duplicate_rm[\"total_exposure_days\"] = df_interest_duplicate_rm[\"drug_exposure_end_date\"] - df_interest_duplicate_rm[\"drug_exposure_start_date\"] + timedelta(days=1)\n"
     ]
    }
   ],
   "source": [
    "\"\"\"\n",
    "1891866 환자의 약 별 복용일 구하기\n",
    "약을 여러 차례에 걸쳐 복용할 경우, 각 차례 사이에 복용 안 하는 경우도 존재\n",
    "따라서 각 drug 별 복용일 산출 후, 약물 별 합산 구함\n",
    "\"\"\"\n",
    "df_interest_duplicate_rm[\"total_exposure_days\"] = df_interest_duplicate_rm[\"drug_exposure_end_date\"] - df_interest_duplicate_rm[\"drug_exposure_start_date\"] + timedelta(days=1)\n",
    "df_drug_exposure_days = df_interest_duplicate_rm.groupby(\"drug_concept_id\")\\\n",
    "    .total_exposure_days \\\n",
    "    .sum() \\\n",
    "    .to_frame() \\\n",
    "    .reset_index()"
   ]
  },
  {
   "cell_type": "code",
   "execution_count": 7,
   "id": "226114db",
   "metadata": {},
   "outputs": [],
   "source": [
    "# Join\n",
    "df_merged = pd.merge(df_drug_dates, \n",
    "                     df_drug_exposure_days, \n",
    "                     how=\"inner\", \n",
    "                     on=\"drug_concept_id\")"
   ]
  },
  {
   "cell_type": "code",
   "execution_count": 8,
   "id": "11f93366",
   "metadata": {},
   "outputs": [
    {
     "data": {
      "text/html": [
       "<div>\n",
       "<style scoped>\n",
       "    .dataframe tbody tr th:only-of-type {\n",
       "        vertical-align: middle;\n",
       "    }\n",
       "\n",
       "    .dataframe tbody tr th {\n",
       "        vertical-align: top;\n",
       "    }\n",
       "\n",
       "    .dataframe thead th {\n",
       "        text-align: right;\n",
       "    }\n",
       "</style>\n",
       "<table border=\"1\" class=\"dataframe\">\n",
       "  <thead>\n",
       "    <tr style=\"text-align: right;\">\n",
       "      <th></th>\n",
       "      <th>drug_concept_id</th>\n",
       "      <th>drug_exposure_start_date</th>\n",
       "      <th>drug_exposure_end_date</th>\n",
       "      <th>total_exposure_days</th>\n",
       "    </tr>\n",
       "  </thead>\n",
       "  <tbody>\n",
       "    <tr>\n",
       "      <th>4</th>\n",
       "      <td>40213227</td>\n",
       "      <td>1993-01-05</td>\n",
       "      <td>1993-01-05</td>\n",
       "      <td>1 days</td>\n",
       "    </tr>\n",
       "    <tr>\n",
       "      <th>3</th>\n",
       "      <td>40213154</td>\n",
       "      <td>1989-09-12</td>\n",
       "      <td>1998-07-07</td>\n",
       "      <td>10 days</td>\n",
       "    </tr>\n",
       "    <tr>\n",
       "      <th>2</th>\n",
       "      <td>19030765</td>\n",
       "      <td>1988-10-18</td>\n",
       "      <td>1998-10-05</td>\n",
       "      <td>1214 days</td>\n",
       "    </tr>\n",
       "    <tr>\n",
       "      <th>0</th>\n",
       "      <td>1539463</td>\n",
       "      <td>1990-03-13</td>\n",
       "      <td>1998-03-11</td>\n",
       "      <td>5484 days</td>\n",
       "    </tr>\n",
       "    <tr>\n",
       "      <th>1</th>\n",
       "      <td>19009384</td>\n",
       "      <td>1959-12-01</td>\n",
       "      <td>1998-10-06</td>\n",
       "      <td>14421 days</td>\n",
       "    </tr>\n",
       "  </tbody>\n",
       "</table>\n",
       "</div>"
      ],
      "text/plain": [
       "   drug_concept_id drug_exposure_start_date drug_exposure_end_date  \\\n",
       "4         40213227               1993-01-05             1993-01-05   \n",
       "3         40213154               1989-09-12             1998-07-07   \n",
       "2         19030765               1988-10-18             1998-10-05   \n",
       "0          1539463               1990-03-13             1998-03-11   \n",
       "1         19009384               1959-12-01             1998-10-06   \n",
       "\n",
       "  total_exposure_days  \n",
       "4              1 days  \n",
       "3             10 days  \n",
       "2           1214 days  \n",
       "0           5484 days  \n",
       "1          14421 days  "
      ]
     },
     "execution_count": 8,
     "metadata": {},
     "output_type": "execute_result"
    }
   ],
   "source": [
    "# 복용일이 긴 순으로 정렬(오름차순)\n",
    "df_merged.sort_values(\"total_exposure_days\")"
   ]
  },
  {
   "cell_type": "code",
   "execution_count": 9,
   "id": "ddb26015",
   "metadata": {},
   "outputs": [
    {
     "data": {
      "text/plain": [
       "29761    62232837\n",
       "29805    62232899\n",
       "30828    62233775\n",
       "Name: drug_exposure_id, dtype: int64"
      ]
     },
     "execution_count": 9,
     "metadata": {},
     "output_type": "execute_result"
    }
   ],
   "source": [
    "drug_exposure_duplicate_id"
   ]
  }
 ],
 "metadata": {
  "kernelspec": {
   "display_name": "Python 3 (ipykernel)",
   "language": "python",
   "name": "python3"
  },
  "language_info": {
   "codemirror_mode": {
    "name": "ipython",
    "version": 3
   },
   "file_extension": ".py",
   "mimetype": "text/x-python",
   "name": "python",
   "nbconvert_exporter": "python",
   "pygments_lexer": "ipython3",
   "version": "3.9.10"
  }
 },
 "nbformat": 4,
 "nbformat_minor": 5
}
