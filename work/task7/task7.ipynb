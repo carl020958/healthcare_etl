{
 "cells": [
  {
   "cell_type": "code",
   "execution_count": 1,
   "id": "040628f9",
   "metadata": {},
   "outputs": [],
   "source": [
    "import pandas as pd\n",
    "from sqlalchemy import create_engine\n",
    "from get_info import get_random_int, get_person_info, get_visit_occurrence, get_drug_exposure, get_condition_occurrence\n",
    "import json\n",
    "\n",
    "with open(\"/home/jovyan/work/.credentials.json\", \"r\") as credential:\n",
    "    credential = json.load(credential)\n",
    "    url = credential[\"url\"]"
   ]
  },
  {
   "cell_type": "code",
   "execution_count": 2,
   "id": "8616db21",
   "metadata": {},
   "outputs": [],
   "source": [
    "# DB 연결\n",
    "engine = create_engine(url, connect_args={'options': '-csearch_path={}'.format('de')})\n",
    "\n",
    "df = pd.read_sql_table(\n",
    "    \"clinical_note\",\n",
    "    con=engine\n",
    ")"
   ]
  },
  {
   "cell_type": "code",
   "execution_count": 3,
   "id": "694f663c",
   "metadata": {},
   "outputs": [],
   "source": [
    "# CONTINUING 앞 부분만 가져오기\n",
    "df[\"note_cut\"] = df.apply(lambda row: row.str.split(\"CONTINUING\")[0][0], axis=1)"
   ]
  },
  {
   "cell_type": "code",
   "execution_count": 4,
   "id": "8436fd63",
   "metadata": {},
   "outputs": [],
   "source": [
    "# 정보 추출 후, list 안의 dictionary 형태로 저장\n",
    "persons, visit_occurrences, drug_exposures, condition_occurrences = [], [], [], []\n",
    "for note in df[\"note_cut\"]:\n",
    "    person_id, visit_occurrence_id, drug_exposure_id = get_random_int()\n",
    "    persons.append(get_person_info(note, person_id))\n",
    "    visit_occurrences.append(get_visit_occurrence(note, person_id, visit_occurrence_id))\n",
    "    drug_exposures += get_drug_exposure(note, person_id, visit_occurrence_id, drug_exposure_id)\n",
    "    condition_occurrences += get_condition_occurrence(note, person_id, visit_occurrence_id)"
   ]
  },
  {
   "cell_type": "code",
   "execution_count": 5,
   "id": "b31bc275",
   "metadata": {},
   "outputs": [],
   "source": [
    "# dictionary를 Dataframe으로 변환\n",
    "dicts_for_df = [persons, visit_occurrences, drug_exposures, condition_occurrences]\n",
    "dfs = []\n",
    "for dict_for_df in dicts_for_df:\n",
    "    dfs.append(pd.DataFrame(dict_for_df))"
   ]
  },
  {
   "cell_type": "code",
   "execution_count": 9,
   "id": "7ad0d7f9",
   "metadata": {},
   "outputs": [],
   "source": [
    "engine = create_engine(url, connect_args={'options': '-csearch_path={}'.format('walker105')})\n",
    "tables = [\"person\", \"visit_occurrence\", \"drug_exposure\", \"condition_occurrence\"]\n",
    "for i in range(len(dfs)):\n",
    "    dfs[i].to_sql(tables[i], engine, if_exists='append', index=False)"
   ]
  }
 ],
 "metadata": {
  "kernelspec": {
   "display_name": "Python 3 (ipykernel)",
   "language": "python",
   "name": "python3"
  },
  "language_info": {
   "codemirror_mode": {
    "name": "ipython",
    "version": 3
   },
   "file_extension": ".py",
   "mimetype": "text/x-python",
   "name": "python",
   "nbconvert_exporter": "python",
   "pygments_lexer": "ipython3",
   "version": "3.9.10"
  }
 },
 "nbformat": 4,
 "nbformat_minor": 5
}
