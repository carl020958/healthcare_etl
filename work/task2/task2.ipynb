{
 "cells": [
  {
   "cell_type": "code",
   "execution_count": 1,
   "id": "8848cd90",
   "metadata": {},
   "outputs": [],
   "source": [
    "import pandas as pd\n",
    "from sqlalchemy import create_engine\n",
    "import re\n",
    "import json\n",
    "\n",
    "with open(\"/home/jovyan/work/.credentials.json\", \"r\") as credential:\n",
    "    credential = json.load(credential)\n",
    "    url = credential[\"url\"]\n",
    "\n",
    "def get_interest(column):\n",
    "    \"\"\"return string that matches the pattern\"\"\"\n",
    "    concept_names = set()\n",
    "    pattern = r'^(a|b|c|d|e|A|B|C|D|E).*(heart).*'\n",
    "    for row in column:\n",
    "        if re.match(pattern, row):\n",
    "            concept_names.add(row)\n",
    "    return concept_names"
   ]
  },
  {
   "cell_type": "code",
   "execution_count": 2,
   "id": "e815866a",
   "metadata": {},
   "outputs": [],
   "source": [
    "# DB 연결\n",
    "engine = create_engine(url, connect_args={'options': '-csearch_path={}'.format('de')})\n",
    "df_condition = pd.read_sql_table(\n",
    "    \"condition_occurrence\",\n",
    "    con=engine\n",
    ")\n",
    "df_concept = pd.read_sql_table(\n",
    "    \"concept\",\n",
    "    con=engine\n",
    ")"
   ]
  },
  {
   "cell_type": "code",
   "execution_count": 3,
   "id": "365629a7",
   "metadata": {},
   "outputs": [],
   "source": [
    "# 각 테이블에서 필요한 행만 가져오기\n",
    "df_condition_concept_id = df_condition[[\"condition_concept_id\"]]\n",
    "df_concept_id_name = df_concept[[\"concept_id\", \"concept_name\"]]"
   ]
  },
  {
   "cell_type": "code",
   "execution_count": 4,
   "id": "9e370cd6",
   "metadata": {},
   "outputs": [],
   "source": [
    "# Join\n",
    "df_merged = pd.merge(df_condition_concept_id, \n",
    "                     df_concept_id_name, \n",
    "                     how=\"left\", \n",
    "                     left_on=\"condition_concept_id\", \n",
    "                     right_on=\"concept_id\")"
   ]
  },
  {
   "cell_type": "code",
   "execution_count": 5,
   "id": "f3a6204d",
   "metadata": {},
   "outputs": [
    {
     "name": "stdout",
     "output_type": "stream",
     "text": [
      "{'Chronic congestive heart failure'}\n"
     ]
    }
   ],
   "source": [
    "# 첫 글자는 (a,b,c,d,e) 문자로 시작하고 중간에 \"heart\"가 포함된 상병 이름\n",
    "print(get_interest(df_merged[\"concept_name\"]))"
   ]
  }
 ],
 "metadata": {
  "kernelspec": {
   "display_name": "Python 3 (ipykernel)",
   "language": "python",
   "name": "python3"
  },
  "language_info": {
   "codemirror_mode": {
    "name": "ipython",
    "version": 3
   },
   "file_extension": ".py",
   "mimetype": "text/x-python",
   "name": "python",
   "nbconvert_exporter": "python",
   "pygments_lexer": "ipython3",
   "version": "3.9.10"
  }
 },
 "nbformat": 4,
 "nbformat_minor": 5
}
