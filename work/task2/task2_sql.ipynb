{
 "cells": [
  {
   "cell_type": "code",
   "execution_count": 1,
   "id": "6214a436",
   "metadata": {},
   "outputs": [],
   "source": [
    "%config SqlMagic.displaycon = False\n",
    "%load_ext sql\n",
    "%sql url"
   ]
  },
  {
   "cell_type": "code",
   "execution_count": 2,
   "id": "84d9d607",
   "metadata": {},
   "outputs": [
    {
     "name": "stdout",
     "output_type": "stream",
     "text": [
      "1 rows affected.\n"
     ]
    },
    {
     "data": {
      "text/html": [
       "<table>\n",
       "    <tr>\n",
       "        <th>concept_name</th>\n",
       "    </tr>\n",
       "    <tr>\n",
       "        <td>Chronic congestive heart failure</td>\n",
       "    </tr>\n",
       "</table>"
      ],
      "text/plain": [
       "[('Chronic congestive heart failure',)]"
      ]
     },
     "execution_count": 2,
     "metadata": {},
     "output_type": "execute_result"
    }
   ],
   "source": [
    "%%sql\n",
    "select \n",
    "\tdistinct c.concept_name \n",
    "from de.condition_occurrence co\n",
    "left join de.concept c\n",
    "\ton co.condition_concept_id = c.concept_id\n",
    "where lower(concept_name) ~ '^[abcde].*(heart).*'"
   ]
  }
 ],
 "metadata": {
  "kernelspec": {
   "display_name": "Python 3 (ipykernel)",
   "language": "python",
   "name": "python3"
  },
  "language_info": {
   "codemirror_mode": {
    "name": "ipython",
    "version": 3
   },
   "file_extension": ".py",
   "mimetype": "text/x-python",
   "name": "python",
   "nbconvert_exporter": "python",
   "pygments_lexer": "ipython3",
   "version": "3.9.10"
  }
 },
 "nbformat": 4,
 "nbformat_minor": 5
}
