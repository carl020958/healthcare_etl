{
 "cells": [
  {
   "cell_type": "code",
   "execution_count": 1,
   "id": "cd58b992",
   "metadata": {},
   "outputs": [],
   "source": [
    "import pandas as pd\n",
    "from sqlalchemy import create_engine\n",
    "from datetime import timedelta\n",
    "import json\n",
    "\n",
    "with open(\"/home/jovyan/work/.credentials.json\", \"r\") as credential:\n",
    "    credential = json.load(credential)\n",
    "    url = credential[\"url\"]"
   ]
  },
  {
   "cell_type": "code",
   "execution_count": 2,
   "id": "1bbe4c0e",
   "metadata": {},
   "outputs": [],
   "source": [
    "# DB 연결\n",
    "engine = create_engine(url, connect_args={'options': '-csearch_path={}'.format('de')})\n",
    "df = pd.read_sql_table(\n",
    "    \"visit_occurrence\",\n",
    "    con=engine\n",
    ")"
   ]
  },
  {
   "cell_type": "code",
   "execution_count": 3,
   "id": "58134db9",
   "metadata": {},
   "outputs": [],
   "source": [
    "# (총) 내원일수 구하기\n",
    "df[\"visit_days\"] = df[\"visit_end_date\"] - df[\"visit_start_date\"] + timedelta(days=1)"
   ]
  },
  {
   "cell_type": "code",
   "execution_count": 4,
   "id": "81f8c5d3",
   "metadata": {},
   "outputs": [],
   "source": [
    "# 환자 별 총 내원일수 구하기, (환자 별 총 내원일수이므로 person_id로 groupby 후 visit_days 모두 더하기)\n",
    "total_days = df.groupby(\"person_id\")[\"visit_days\"].sum()"
   ]
  },
  {
   "cell_type": "code",
   "execution_count": 5,
   "id": "a88e1224",
   "metadata": {},
   "outputs": [
    {
     "name": "stdout",
     "output_type": "stream",
     "text": [
      "총 내원일수의 최대값은 18873일\n"
     ]
    }
   ],
   "source": [
    "# 총 내원일수 최대값(환자 별)\n",
    "max_total_visit_days = max(total_days).days\n",
    "print(f'총 내원일수의 최대값은 {max_total_visit_days}일')"
   ]
  },
  {
   "cell_type": "code",
   "execution_count": 6,
   "id": "98f135e8",
   "metadata": {},
   "outputs": [
    {
     "name": "stdout",
     "output_type": "stream",
     "text": [
      "총 내원일수 최대값을 가지는 환자의 수는 1명\n"
     ]
    }
   ],
   "source": [
    "# 총 내원일수 최대값을 가지는 환자의 수\n",
    "df_total_visit_days = total_days.to_frame().reset_index()\n",
    "print(f'총 내원일수 최대값을 가지는 환자의 수는 {len(df_total_visit_days.loc[df_total_visit_days.visit_days == timedelta(days=max_total_visit_days)])}명')"
   ]
  }
 ],
 "metadata": {
  "kernelspec": {
   "display_name": "Python 3 (ipykernel)",
   "language": "python",
   "name": "python3"
  },
  "language_info": {
   "codemirror_mode": {
    "name": "ipython",
    "version": 3
   },
   "file_extension": ".py",
   "mimetype": "text/x-python",
   "name": "python",
   "nbconvert_exporter": "python",
   "pygments_lexer": "ipython3",
   "version": "3.9.10"
  }
 },
 "nbformat": 4,
 "nbformat_minor": 5
}
