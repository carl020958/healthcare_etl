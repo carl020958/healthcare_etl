{
 "cells": [
  {
   "cell_type": "code",
   "execution_count": 1,
   "id": "b45f2e7f",
   "metadata": {},
   "outputs": [],
   "source": [
    "%config SqlMagic.displaycon = False\n",
    "%load_ext sql\n",
    "%sql url"
   ]
  },
  {
   "cell_type": "code",
   "execution_count": 2,
   "id": "e40625e5",
   "metadata": {},
   "outputs": [
    {
     "name": "stdout",
     "output_type": "stream",
     "text": [
      "1 rows affected.\n"
     ]
    },
    {
     "data": {
      "text/html": [
       "<table>\n",
       "    <tr>\n",
       "        <th>max</th>\n",
       "    </tr>\n",
       "    <tr>\n",
       "        <td>18873</td>\n",
       "    </tr>\n",
       "</table>"
      ],
      "text/plain": [
       "[(18873,)]"
      ]
     },
     "execution_count": 2,
     "metadata": {},
     "output_type": "execute_result"
    }
   ],
   "source": [
    "%%sql\n",
    "WITH t1 AS (\n",
    "    SELECT \n",
    "         person_id\n",
    "        ,SUM(visit_end_date - visit_start_date + 1) total_days\n",
    "    FROM de.visit_occurrence\n",
    "    GROUP BY person_id\n",
    ")\n",
    "SELECT MAX(total_days)\n",
    "FROM t1"
   ]
  },
  {
   "cell_type": "code",
   "execution_count": 3,
   "id": "56f218f7",
   "metadata": {},
   "outputs": [
    {
     "name": "stdout",
     "output_type": "stream",
     "text": [
      "1 rows affected.\n"
     ]
    },
    {
     "data": {
      "text/html": [
       "<table>\n",
       "    <tr>\n",
       "        <th>count</th>\n",
       "    </tr>\n",
       "    <tr>\n",
       "        <td>1</td>\n",
       "    </tr>\n",
       "</table>"
      ],
      "text/plain": [
       "[(1,)]"
      ]
     },
     "execution_count": 3,
     "metadata": {},
     "output_type": "execute_result"
    }
   ],
   "source": [
    "%%sql\n",
    "WITH t1 AS (\n",
    "    SELECT \n",
    "         person_id\n",
    "        ,SUM(visit_end_date - visit_start_date + 1) total_days\n",
    "    FROM de.visit_occurrence\n",
    "    GROUP BY person_id\n",
    ")\n",
    "SELECT count(1)\n",
    "FROM t1\n",
    "WHERE total_days = (\n",
    "    SELECT MAX(total_days) FROM t1\n",
    ")"
   ]
  }
 ],
 "metadata": {
  "kernelspec": {
   "display_name": "Python 3 (ipykernel)",
   "language": "python",
   "name": "python3"
  },
  "language_info": {
   "codemirror_mode": {
    "name": "ipython",
    "version": 3
   },
   "file_extension": ".py",
   "mimetype": "text/x-python",
   "name": "python",
   "nbconvert_exporter": "python",
   "pygments_lexer": "ipython3",
   "version": "3.9.10"
  }
 },
 "nbformat": 4,
 "nbformat_minor": 5
}
