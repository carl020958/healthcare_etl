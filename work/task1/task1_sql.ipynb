{
 "cells": [
  {
   "cell_type": "code",
   "execution_count": 1,
   "id": "b45f2e7f",
   "metadata": {},
   "outputs": [],
   "source": [
    "%config SqlMagic.displaycon = False"
   ]
  },
  {
   "cell_type": "code",
   "execution_count": 2,
   "id": "6f004f4f",
   "metadata": {},
   "outputs": [],
   "source": [
    "%load_ext sql"
   ]
  },
  {
   "cell_type": "code",
   "execution_count": 3,
   "id": "22a83e43",
   "metadata": {},
   "outputs": [],
   "source": [
    "%sql url"
   ]
  },
  {
   "cell_type": "code",
   "execution_count": 4,
   "id": "e40625e5",
   "metadata": {},
   "outputs": [
    {
     "name": "stdout",
     "output_type": "stream",
     "text": [
      "1 rows affected.\n"
     ]
    },
    {
     "data": {
      "text/html": [
       "<table>\n",
       "    <tr>\n",
       "        <th>max</th>\n",
       "    </tr>\n",
       "    <tr>\n",
       "        <td>18873</td>\n",
       "    </tr>\n",
       "</table>"
      ],
      "text/plain": [
       "[(18873,)]"
      ]
     },
     "execution_count": 4,
     "metadata": {},
     "output_type": "execute_result"
    }
   ],
   "source": [
    "%%sql\n",
    "with t1 as (\n",
    "    select \n",
    "         person_id\n",
    "        ,sum(visit_end_date - visit_start_date + 1) total_days\n",
    "    from de.visit_occurrence\n",
    "    group by person_id\n",
    ")\n",
    "select max(total_days)\n",
    "from t1"
   ]
  },
  {
   "cell_type": "code",
   "execution_count": 5,
   "id": "56f218f7",
   "metadata": {},
   "outputs": [
    {
     "name": "stdout",
     "output_type": "stream",
     "text": [
      "1 rows affected.\n"
     ]
    },
    {
     "data": {
      "text/html": [
       "<table>\n",
       "    <tr>\n",
       "        <th>count</th>\n",
       "    </tr>\n",
       "    <tr>\n",
       "        <td>1</td>\n",
       "    </tr>\n",
       "</table>"
      ],
      "text/plain": [
       "[(1,)]"
      ]
     },
     "execution_count": 5,
     "metadata": {},
     "output_type": "execute_result"
    }
   ],
   "source": [
    "%%sql\n",
    "with t1 as (\n",
    "    select \n",
    "         person_id\n",
    "        ,sum(visit_end_date - visit_start_date + 1) total_days\n",
    "    from de.visit_occurrence\n",
    "    group by person_id\n",
    ")\n",
    "select count(*)\n",
    "from t1\n",
    "where total_days = (\n",
    "    select max(total_days) from t1\n",
    ")"
   ]
  }
 ],
 "metadata": {
  "kernelspec": {
   "display_name": "Python 3 (ipykernel)",
   "language": "python",
   "name": "python3"
  },
  "language_info": {
   "codemirror_mode": {
    "name": "ipython",
    "version": 3
   },
   "file_extension": ".py",
   "mimetype": "text/x-python",
   "name": "python",
   "nbconvert_exporter": "python",
   "pygments_lexer": "ipython3",
   "version": "3.9.10"
  }
 },
 "nbformat": 4,
 "nbformat_minor": 5
}
